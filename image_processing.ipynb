{
 "cells": [
  {
   "cell_type": "code",
   "execution_count": 1,
   "metadata": {},
   "outputs": [],
   "source": [
    "import numpy as np\n",
    "import skimage.io as io\n",
    "import imageio\n",
    "import os\n",
    "import shutil\n",
    "from PIL import Image"
   ]
  },
  {
   "cell_type": "markdown",
   "metadata": {},
   "source": [
    "### Restructuring the dataset"
   ]
  },
  {
   "cell_type": "markdown",
   "metadata": {},
   "source": [
    "For MEDIAR to work with the provided images, we need to alter the folder-structure and transform some of the files. "
   ]
  },
  {
   "cell_type": "code",
   "execution_count": 3,
   "metadata": {},
   "outputs": [],
   "source": [
    "!mkdir Datasets\n",
    "!mkdir Datasets/images\n",
    "!mkdir Datasets/labels"
   ]
  },
  {
   "cell_type": "code",
   "execution_count": 4,
   "metadata": {},
   "outputs": [],
   "source": [
    "data_dir = \"YeaZ_universal_images_and_masks\"\n",
    "img_dest_dir = \"Datasets/images\"\n",
    "label_dest_dir = \"Datasets/labels\""
   ]
  },
  {
   "cell_type": "markdown",
   "metadata": {},
   "source": [
    "### Validate 1-1 relationship\n",
    "\n",
    "For each image (annotated '_im.tif') we should have exactly one corresponding mask/label (annotated '_mask.tif')."
   ]
  },
  {
   "cell_type": "code",
   "execution_count": 5,
   "metadata": {},
   "outputs": [],
   "source": [
    "import os\n",
    "\n",
    "def find_unmatched_files(directory):\n",
    "    im_files = set()\n",
    "    mask_files = set()\n",
    "\n",
    "    for dirpath, dirnames, filenames in os.walk(directory):\n",
    "        for file in filenames:\n",
    "            if file.endswith('_im.tif'):\n",
    "                base_name = file.replace('_im.tif', '')\n",
    "                full_base_name = os.path.join(dirpath, base_name).replace(directory + os.sep, '')\n",
    "                im_files.add(full_base_name)\n",
    "            elif file.endswith('_mask.tif'):\n",
    "                base_name = file.replace('_mask.tif', '')\n",
    "                full_base_name = os.path.join(dirpath, base_name).replace(directory + os.sep, '')\n",
    "                mask_files.add(full_base_name)\n",
    "\n",
    "    # Find unmatched files\n",
    "    unmatched_im = im_files - mask_files\n",
    "    unmatched_mask = mask_files - im_files\n",
    "\n",
    "    return unmatched_im, unmatched_mask\n"
   ]
  },
  {
   "cell_type": "code",
   "execution_count": 6,
   "metadata": {},
   "outputs": [
    {
     "name": "stdout",
     "output_type": "stream",
     "text": [
      "Images without corresponding masks: set()\n",
      "Masks without corresponding images: set()\n"
     ]
    }
   ],
   "source": [
    "unmatched_im, unmatched_mask = find_unmatched_files(data_dir)\n",
    "\n",
    "print(\"Images without corresponding masks:\", unmatched_im)\n",
    "print(\"Masks without corresponding images:\", unmatched_mask)"
   ]
  },
  {
   "cell_type": "markdown",
   "metadata": {},
   "source": [
    "**Comment:** we see that the set of images is exactly the same as the set of labels, meaning that we have 1-1 relationship"
   ]
  },
  {
   "cell_type": "markdown",
   "metadata": {},
   "source": [
    "### Shapes of Images and Corresponind Masks\n",
    "\n",
    "Since we're doing splitting on stacked images, we need to verify that for each stacked image, the corresponding mask has the same amount of frames. Otherwise, we won't have a 1-1 relationship between the resulting image-frames and label-frames."
   ]
  },
  {
   "cell_type": "code",
   "execution_count": 7,
   "metadata": {},
   "outputs": [
    {
     "data": {
      "text/plain": [
       "[]"
      ]
     },
     "execution_count": 7,
     "metadata": {},
     "output_type": "execute_result"
    }
   ],
   "source": [
    "import os\n",
    "from PIL import Image\n",
    "\n",
    "def compare_frame_counts_original_dataset(data_dir):\n",
    "    unmatched_frame_counts = []\n",
    "\n",
    "    for dirpath, dirnames, filenames in os.walk(data_dir):\n",
    "        for filename in filenames:\n",
    "            if filename.endswith('_im.tif'):\n",
    "                base_filename = filename.replace('_im.tif', '')\n",
    "                img_path = os.path.join(dirpath, filename)\n",
    "                mask_filename = base_filename + '_mask.tif'\n",
    "                mask_path = os.path.join(dirpath, mask_filename)\n",
    "\n",
    "                if os.path.exists(mask_path):\n",
    "                    with Image.open(img_path) as img, Image.open(mask_path) as mask:\n",
    "                        if img.n_frames != mask.n_frames:\n",
    "                            unmatched_frame_counts.append((filename, img.n_frames, mask_filename, mask.n_frames))\n",
    "\n",
    "    return unmatched_frame_counts\n",
    "\n",
    "compare_frame_counts_original_dataset(data_dir)"
   ]
  },
  {
   "cell_type": "markdown",
   "metadata": {},
   "source": [
    "**Comment:** we observe that unmatched_frame_counts is an empty list. Hence, we have the same number of frames for each image, and its corresponding label."
   ]
  },
  {
   "cell_type": "markdown",
   "metadata": {},
   "source": [
    "### Reorganizing Dataset and Splitting Frames\n",
    "\n",
    "Some of the images in the dataset has multiple layers. MEDIAR is not working properly for such images, hence the need to split these images into separate frames. The model is also setup to work with a specific file-structure, meaning that we have to reorganize our dataset for it to work with our files."
   ]
  },
  {
   "cell_type": "code",
   "execution_count": 8,
   "metadata": {},
   "outputs": [],
   "source": [
    "def split_tiff_stack(input_file, output_folder, base_filename, is_mask):\n",
    "    with Image.open(input_file) as img:\n",
    "        for i in range(img.n_frames):\n",
    "            img.seek(i)\n",
    "            frame_filename = f\"{base_filename}_frame_{i}.tiff\"\n",
    "            \n",
    "            if is_mask:\n",
    "                frame_filename = frame_filename.replace(\".tiff\", \"_label.tiff\")\n",
    "                \n",
    "            output_file = os.path.join(output_folder, frame_filename)\n",
    "            img.save(output_file)"
   ]
  },
  {
   "cell_type": "code",
   "execution_count": 9,
   "metadata": {},
   "outputs": [],
   "source": [
    "!mkdir test\n",
    "\n",
    "input_file_image = 'YeaZ_universal_images_and_masks/budding-PhC/KS-K-cropped/Schmoller_crop_1_im.tif'\n",
    "input_file_label = 'YeaZ_universal_images_and_masks/budding-PhC/KS-K-cropped/Schmoller_crop_1_mask.tif'\n",
    "output_folder = 'test'\n",
    "base_filename = 'Schmoller_crop_1'\n",
    "\n",
    "split_tiff_stack(input_file_image, output_folder, base_filename, False)\n",
    "split_tiff_stack(input_file_label, output_folder, base_filename, True)"
   ]
  },
  {
   "cell_type": "markdown",
   "metadata": {},
   "source": [
    "**Comment:** the test verifies that the function is working properly. Now, we can reorganize the dataset"
   ]
  },
  {
   "cell_type": "code",
   "execution_count": 10,
   "metadata": {},
   "outputs": [],
   "source": [
    "for dirpath, dirnames, filenames in os.walk(data_dir):\n",
    "    for f in filenames:\n",
    "        src_file = os.path.join(dirpath, f)\n",
    "        \n",
    "        if f.endswith('im.tif'):\n",
    "            new_f = f.replace(\"_im\", \"\").replace(\"tif\", \"tiff\")\n",
    "            new_file_path = os.path.join(img_dest_dir, new_f)\n",
    "            with Image.open(src_file) as img:\n",
    "                if img.n_frames > 1:\n",
    "                    split_tiff_stack(src_file, img_dest_dir, os.path.splitext(new_f)[0], False)\n",
    "                else:\n",
    "                    shutil.copyfile(src_file, new_file_path)\n",
    "                    \n",
    "        elif f.endswith('mask.tif'):\n",
    "            new_f = f.replace(\"_mask\", \"_label\").replace(\"tif\", \"tiff\")\n",
    "            new_f2 = f.replace(\"_mask\", \"\").replace(\"tif\", \"tiff\")\n",
    "            new_file_path = os.path.join(label_dest_dir, new_f)\n",
    "            with Image.open(src_file) as img:\n",
    "                if img.n_frames > 1:\n",
    "                    split_tiff_stack(src_file, label_dest_dir, os.path.splitext(new_f2)[0], True)\n",
    "                else:\n",
    "                    shutil.copyfile(src_file, new_file_path)"
   ]
  },
  {
   "cell_type": "code",
   "execution_count": 11,
   "metadata": {},
   "outputs": [
    {
     "data": {
      "text/plain": [
       "(2914, 2914)"
      ]
     },
     "execution_count": 11,
     "metadata": {},
     "output_type": "execute_result"
    }
   ],
   "source": [
    "len(os.listdir(img_dest_dir)), len(os.listdir(label_dest_dir))"
   ]
  },
  {
   "cell_type": "code",
   "execution_count": null,
   "metadata": {},
   "outputs": [],
   "source": []
  }
 ],
 "metadata": {
  "kernelspec": {
   "display_name": "ada",
   "language": "python",
   "name": "python3"
  },
  "language_info": {
   "codemirror_mode": {
    "name": "ipython",
    "version": 3
   },
   "file_extension": ".py",
   "mimetype": "text/x-python",
   "name": "python",
   "nbconvert_exporter": "python",
   "pygments_lexer": "ipython3",
   "version": "3.9.7"
  }
 },
 "nbformat": 4,
 "nbformat_minor": 2
}
